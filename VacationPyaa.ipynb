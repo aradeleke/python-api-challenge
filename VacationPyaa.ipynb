{
 "cells": [
  {
   "cell_type": "markdown",
   "metadata": {},
   "source": [
    "# VacationPy\n",
    "----\n",
    "\n",
    "#### Note\n",
    "* Instructions have been included for each segment. You do not have to follow them exactly, but they are included to help you think through the steps."
   ]
  },
  {
   "cell_type": "code",
   "execution_count": 6,
   "metadata": {},
   "outputs": [],
   "source": [
    "import matplotlib.pyplot as plt\n",
    "import pandas as pd\n",
    "import numpy as np\n",
    "import requests\n",
    "import gmaps\n",
    "import os\n",
    "import gmaps.datasets\n",
    "import json\n",
    "from api_keys import g_key\n",
    "from pprint import pprint\n",
    "import time"
   ]
  },
  {
   "cell_type": "markdown",
   "metadata": {},
   "source": [
    "### Store Part I results into DataFrame\n",
    "* Load the csv exported in Part I to a DataFrame"
   ]
  },
  {
   "cell_type": "code",
   "execution_count": 7,
   "metadata": {},
   "outputs": [
    {
     "data": {
      "text/html": [
       "<div>\n",
       "<style scoped>\n",
       "    .dataframe tbody tr th:only-of-type {\n",
       "        vertical-align: middle;\n",
       "    }\n",
       "\n",
       "    .dataframe tbody tr th {\n",
       "        vertical-align: top;\n",
       "    }\n",
       "\n",
       "    .dataframe thead th {\n",
       "        text-align: right;\n",
       "    }\n",
       "</style>\n",
       "<table border=\"1\" class=\"dataframe\">\n",
       "  <thead>\n",
       "    <tr style=\"text-align: right;\">\n",
       "      <th></th>\n",
       "      <th>City</th>\n",
       "      <th>Cloudiness</th>\n",
       "      <th>Country</th>\n",
       "      <th>Date</th>\n",
       "      <th>Humidity</th>\n",
       "      <th>Lat</th>\n",
       "      <th>Lng</th>\n",
       "      <th>Max Temp</th>\n",
       "      <th>Wind Speed</th>\n",
       "    </tr>\n",
       "  </thead>\n",
       "  <tbody>\n",
       "    <tr>\n",
       "      <td>0</td>\n",
       "      <td>upernavik</td>\n",
       "      <td>98</td>\n",
       "      <td>GL</td>\n",
       "      <td>1584227715</td>\n",
       "      <td>98</td>\n",
       "      <td>72.79</td>\n",
       "      <td>-56.15</td>\n",
       "      <td>-14.098</td>\n",
       "      <td>3.60157</td>\n",
       "    </tr>\n",
       "    <tr>\n",
       "      <td>1</td>\n",
       "      <td>port alfred</td>\n",
       "      <td>95</td>\n",
       "      <td>ZA</td>\n",
       "      <td>1584227561</td>\n",
       "      <td>87</td>\n",
       "      <td>-33.59</td>\n",
       "      <td>26.89</td>\n",
       "      <td>68.000</td>\n",
       "      <td>4.00423</td>\n",
       "    </tr>\n",
       "    <tr>\n",
       "      <td>2</td>\n",
       "      <td>hilo</td>\n",
       "      <td>90</td>\n",
       "      <td>US</td>\n",
       "      <td>1584227630</td>\n",
       "      <td>78</td>\n",
       "      <td>19.73</td>\n",
       "      <td>-155.09</td>\n",
       "      <td>77.000</td>\n",
       "      <td>6.93470</td>\n",
       "    </tr>\n",
       "    <tr>\n",
       "      <td>3</td>\n",
       "      <td>puerto leguizamo</td>\n",
       "      <td>100</td>\n",
       "      <td>CO</td>\n",
       "      <td>1584227813</td>\n",
       "      <td>91</td>\n",
       "      <td>-0.19</td>\n",
       "      <td>-74.78</td>\n",
       "      <td>74.048</td>\n",
       "      <td>1.72249</td>\n",
       "    </tr>\n",
       "    <tr>\n",
       "      <td>4</td>\n",
       "      <td>bengkulu</td>\n",
       "      <td>81</td>\n",
       "      <td>ID</td>\n",
       "      <td>1584227815</td>\n",
       "      <td>88</td>\n",
       "      <td>-3.80</td>\n",
       "      <td>102.27</td>\n",
       "      <td>75.182</td>\n",
       "      <td>3.08706</td>\n",
       "    </tr>\n",
       "  </tbody>\n",
       "</table>\n",
       "</div>"
      ],
      "text/plain": [
       "               City  Cloudiness Country        Date  Humidity    Lat     Lng  \\\n",
       "0         upernavik          98      GL  1584227715        98  72.79  -56.15   \n",
       "1       port alfred          95      ZA  1584227561        87 -33.59   26.89   \n",
       "2              hilo          90      US  1584227630        78  19.73 -155.09   \n",
       "3  puerto leguizamo         100      CO  1584227813        91  -0.19  -74.78   \n",
       "4          bengkulu          81      ID  1584227815        88  -3.80  102.27   \n",
       "\n",
       "   Max Temp  Wind Speed  \n",
       "0   -14.098     3.60157  \n",
       "1    68.000     4.00423  \n",
       "2    77.000     6.93470  \n",
       "3    74.048     1.72249  \n",
       "4    75.182     3.08706  "
      ]
     },
     "execution_count": 7,
     "metadata": {},
     "output_type": "execute_result"
    }
   ],
   "source": [
    "map_path = \"Resources/weatherpy.csv\"\n",
    "\n",
    "heatmap = pd.read_csv(map_path)\n",
    "heatmap.head()"
   ]
  },
  {
   "cell_type": "markdown",
   "metadata": {},
   "source": [
    "### Humidity Heatmap\n",
    "* Configure gmaps.\n",
    "* Use the Lat and Lng as locations and Humidity as the weight.\n",
    "* Add Heatmap layer to map."
   ]
  },
  {
   "cell_type": "code",
   "execution_count": 8,
   "metadata": {},
   "outputs": [],
   "source": [
    "# Configure gmaps with API key\n",
    "gmaps.configure(api_key=g_key)"
   ]
  },
  {
   "cell_type": "code",
   "execution_count": 15,
   "metadata": {},
   "outputs": [
    {
     "data": {
      "application/vnd.jupyter.widget-view+json": {
       "model_id": "d733501cd16842dfa001f0935982a27c",
       "version_major": 2,
       "version_minor": 0
      },
      "text/plain": [
       "Figure(layout=FigureLayout(height='420px'))"
      ]
     },
     "metadata": {},
     "output_type": "display_data"
    }
   ],
   "source": [
    "fig = gmaps.figure()\n",
    "locations = heatmap[[\"Lat\",\"Lng\"]]\n",
    "weights = heatmap[\"Humidity\"]\n",
    "fig = gmaps.figure()\n",
    "fig.add_layer(gmaps.heatmap_layer(locations, weights = weights, point_radius = 10, max_intensity = 50))\n",
    "\n",
    "fig"
   ]
  },
  {
   "cell_type": "markdown",
   "metadata": {},
   "source": [
    "### Create new DataFrame fitting weather criteria\n",
    "* Narrow down the cities to fit weather conditions.\n",
    "* Drop any rows will null values."
   ]
  },
  {
   "cell_type": "code",
   "execution_count": 10,
   "metadata": {},
   "outputs": [
    {
     "data": {
      "text/html": [
       "<div>\n",
       "<style scoped>\n",
       "    .dataframe tbody tr th:only-of-type {\n",
       "        vertical-align: middle;\n",
       "    }\n",
       "\n",
       "    .dataframe tbody tr th {\n",
       "        vertical-align: top;\n",
       "    }\n",
       "\n",
       "    .dataframe thead th {\n",
       "        text-align: right;\n",
       "    }\n",
       "</style>\n",
       "<table border=\"1\" class=\"dataframe\">\n",
       "  <thead>\n",
       "    <tr style=\"text-align: right;\">\n",
       "      <th></th>\n",
       "      <th>City</th>\n",
       "      <th>Cloudiness</th>\n",
       "      <th>Country</th>\n",
       "      <th>Humidity</th>\n",
       "      <th>Lat</th>\n",
       "      <th>Lng</th>\n",
       "      <th>Max Temp</th>\n",
       "      <th>Wind Speed</th>\n",
       "      <th>Hotel Name</th>\n",
       "    </tr>\n",
       "  </thead>\n",
       "  <tbody>\n",
       "    <tr>\n",
       "      <td>120</td>\n",
       "      <td>maxixe</td>\n",
       "      <td>0</td>\n",
       "      <td>MZ</td>\n",
       "      <td>82</td>\n",
       "      <td>-23.86</td>\n",
       "      <td>35.35</td>\n",
       "      <td>77.630</td>\n",
       "      <td>6.55441</td>\n",
       "      <td>Oceano</td>\n",
       "    </tr>\n",
       "    <tr>\n",
       "      <td>205</td>\n",
       "      <td>marawi</td>\n",
       "      <td>0</td>\n",
       "      <td>PH</td>\n",
       "      <td>82</td>\n",
       "      <td>8.00</td>\n",
       "      <td>124.29</td>\n",
       "      <td>75.992</td>\n",
       "      <td>2.99758</td>\n",
       "      <td>Derogongan Residence</td>\n",
       "    </tr>\n",
       "    <tr>\n",
       "      <td>371</td>\n",
       "      <td>taoudenni</td>\n",
       "      <td>0</td>\n",
       "      <td>ML</td>\n",
       "      <td>12</td>\n",
       "      <td>22.68</td>\n",
       "      <td>-3.98</td>\n",
       "      <td>70.628</td>\n",
       "      <td>2.93047</td>\n",
       "      <td>Not Found</td>\n",
       "    </tr>\n",
       "    <tr>\n",
       "      <td>469</td>\n",
       "      <td>ures</td>\n",
       "      <td>0</td>\n",
       "      <td>MX</td>\n",
       "      <td>36</td>\n",
       "      <td>29.43</td>\n",
       "      <td>-110.40</td>\n",
       "      <td>75.992</td>\n",
       "      <td>5.01088</td>\n",
       "      <td>Hotel HACIENDA San Francisco</td>\n",
       "    </tr>\n",
       "    <tr>\n",
       "      <td>506</td>\n",
       "      <td>xai-xai</td>\n",
       "      <td>0</td>\n",
       "      <td>MZ</td>\n",
       "      <td>96</td>\n",
       "      <td>-25.05</td>\n",
       "      <td>33.64</td>\n",
       "      <td>70.880</td>\n",
       "      <td>1.81197</td>\n",
       "      <td>Platinum Hotel</td>\n",
       "    </tr>\n",
       "    <tr>\n",
       "      <td>561</td>\n",
       "      <td>rey bouba</td>\n",
       "      <td>0</td>\n",
       "      <td>CM</td>\n",
       "      <td>14</td>\n",
       "      <td>8.67</td>\n",
       "      <td>14.18</td>\n",
       "      <td>70.394</td>\n",
       "      <td>1.61064</td>\n",
       "      <td>Not Found</td>\n",
       "    </tr>\n",
       "  </tbody>\n",
       "</table>\n",
       "</div>"
      ],
      "text/plain": [
       "          City  Cloudiness Country  Humidity    Lat     Lng  Max Temp  \\\n",
       "120     maxixe           0      MZ        82 -23.86   35.35    77.630   \n",
       "205     marawi           0      PH        82   8.00  124.29    75.992   \n",
       "371  taoudenni           0      ML        12  22.68   -3.98    70.628   \n",
       "469       ures           0      MX        36  29.43 -110.40    75.992   \n",
       "506    xai-xai           0      MZ        96 -25.05   33.64    70.880   \n",
       "561  rey bouba           0      CM        14   8.67   14.18    70.394   \n",
       "\n",
       "     Wind Speed                    Hotel Name  \n",
       "120     6.55441                        Oceano  \n",
       "205     2.99758          Derogongan Residence  \n",
       "371     2.93047                     Not Found  \n",
       "469     5.01088  Hotel HACIENDA San Francisco  \n",
       "506     1.81197                Platinum Hotel  \n",
       "561     1.61064                     Not Found  "
      ]
     },
     "execution_count": 10,
     "metadata": {},
     "output_type": "execute_result"
    }
   ],
   "source": [
    "hotel_df = heatmap.loc[(heatmap[\"Max Temp\"] > 70) & (heatmap[\"Max Temp\"] < 80) & (heatmap[\"Wind Speed\"] < 10) & (heatmap[\"Cloudiness\"] == 0), [\"City\", \"Cloudiness\", \"Country\", \"Humidity\", \"Lat\", \"Lng\", \"Max Temp\", \"Wind Speed\"]]\n",
    "base_url = \"https://maps.googleapis.com/maps/api/place/nearbysearch/json?location=\"\n",
    "hotel_name = []\n",
    "\n",
    "for index, row in hotel_df.iterrows():\n",
    "    query_url = base_url + str(row[\"Lat\"]) + \",\" + str(row[\"Lng\"]) + \"&radius=5000&type=lodging&key=\" + g_key\n",
    "    response = requests.get(query_url).json()\n",
    "    time.sleep(0.5)\n",
    "    try:\n",
    "        hotel_name.append(response[\"results\"][0][\"name\"])\n",
    "    except:\n",
    "        hotel_name.append(\"Not Found\")\n",
    "        pass\n",
    "        \n",
    "hotel_df[\"Hotel Name\"] = hotel_name\n",
    "hotel_df\n",
    "    \n"
   ]
  },
  {
   "cell_type": "markdown",
   "metadata": {},
   "source": [
    "### Hotel Map\n",
    "* Store into variable named `hotel_df`.\n",
    "* Add a \"Hotel Name\" column to the DataFrame.\n",
    "* Set parameters to search for hotels with 5000 meters.\n",
    "* Hit the Google Places API for each city's coordinates.\n",
    "* Store the first Hotel result into the DataFrame.\n",
    "* Plot markers on top of the heatmap."
   ]
  },
  {
   "cell_type": "code",
   "execution_count": 11,
   "metadata": {},
   "outputs": [],
   "source": [
    "filtered_hotel_df = hotel_df.loc[hotel_df[\"Hotel Name\"] != \"Not Found\", [\"Hotel Name\", \"City\", \"Country\", \"Lat\", \"Lng\"]]\n",
    "\n",
    "hotel_markers_list = []\n",
    "hotel_markers_dict = {}\n",
    "for index, row in filtered_hotel_df.iterrows():\n",
    "    hotel_markers_dict[\"Hotel Name\"] = row[\"Hotel Name\"]\n",
    "    hotel_markers_dict[\"location\"] = (row[\"Lat\"], row[\"Lng\"])\n",
    "    hotel_markers_dict[\"City\"] = row[\"City\"]\n",
    "    hotel_markers_dict[\"Country\"] = row[\"Country\"]\n",
    "    hotel_markers_list.append(hotel_markers_dict)\n",
    "    hotel_markers_dict = {}\n"
   ]
  },
  {
   "cell_type": "code",
   "execution_count": 12,
   "metadata": {},
   "outputs": [],
   "source": [
    "# NOTE: Do not change any of the code in this cell\n",
    "city_locations = [city[\"location\"] for city in hotel_markers_list]\n",
    "\n",
    "# Using the template add the hotel marks to the heatmap\n",
    "info_box_template = \"\"\"\n",
    "<dl>\n",
    "<dt>Name</dt><dd>{Hotel Name}</dd>\n",
    "<dt>City</dt><dd>{City}</dd>\n",
    "<dt>Country</dt><dd>{Country}</dd>\n",
    "</dl>\n",
    "\"\"\"\n",
    "# Store the DataFrame Row\n",
    "# NOTE: be sure to update with your DataFrame name\n",
    "hotel_info = [info_box_template.format(**city) for city in hotel_markers_list]\n",
    "\n"
   ]
  },
  {
   "cell_type": "code",
   "execution_count": 14,
   "metadata": {},
   "outputs": [
    {
     "data": {
      "application/vnd.jupyter.widget-view+json": {
       "model_id": "aa8529fc73ba443a83ff1f5614b01d0a",
       "version_major": 2,
       "version_minor": 0
      },
      "text/plain": [
       "Figure(layout=FigureLayout(height='420px'))"
      ]
     },
     "metadata": {},
     "output_type": "display_data"
    }
   ],
   "source": [
    "# Add marker layer ontop of heat map\n",
    "marker_layer = gmaps.marker_layer(city_locations, info_box_content = hotel_info)\n",
    "fig = gmaps.figure()\n",
    "fig.add_layer(marker_layer)\n",
    "fig.add_layer(gmaps.heatmap_layer(locations, weights = weights, point_radius = 10, max_intensity = 200))\n",
    "\n",
    "fig\n",
    "\n",
    "\n",
    "\n",
    "# Display Map"
   ]
  },
  {
   "cell_type": "code",
   "execution_count": null,
   "metadata": {},
   "outputs": [],
   "source": []
  }
 ],
 "metadata": {
  "kernelspec": {
   "display_name": "Python 3",
   "language": "python",
   "name": "python3"
  },
  "language_info": {
   "codemirror_mode": {
    "name": "ipython",
    "version": 3
   },
   "file_extension": ".py",
   "mimetype": "text/x-python",
   "name": "python",
   "nbconvert_exporter": "python",
   "pygments_lexer": "ipython3",
   "version": "3.7.4"
  },
  "latex_envs": {
   "LaTeX_envs_menu_present": true,
   "autoclose": false,
   "autocomplete": true,
   "bibliofile": "biblio.bib",
   "cite_by": "apalike",
   "current_citInitial": 1,
   "eqLabelWithNumbers": true,
   "eqNumInitial": 1,
   "hotkeys": {
    "equation": "Ctrl-E",
    "itemize": "Ctrl-I"
   },
   "labels_anchors": false,
   "latex_user_defs": false,
   "report_style_numbering": false,
   "user_envs_cfg": false
  }
 },
 "nbformat": 4,
 "nbformat_minor": 2
}
